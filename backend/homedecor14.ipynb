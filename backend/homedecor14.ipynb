{
  "cells": [
    {
      "cell_type": "markdown",
      "metadata": {
        "id": "jN8j_sld4_Sr"
      },
      "source": [
        "load data\n"
      ]
    },
    {
      "cell_type": "code",
      "execution_count": 1,
      "metadata": {},
      "outputs": [],
      "source": [
        "import pandas as pd"
      ]
    },
    {
      "cell_type": "code",
      "execution_count": 3,
      "metadata": {
        "execution": {
          "iopub.execute_input": "2024-02-20T17:08:36.518228Z",
          "iopub.status.busy": "2024-02-20T17:08:36.517167Z",
          "iopub.status.idle": "2024-02-20T17:08:36.696079Z",
          "shell.execute_reply": "2024-02-20T17:08:36.694832Z",
          "shell.execute_reply.started": "2024-02-20T17:08:36.518166Z"
        },
        "id": "DcSQUOtb4_St",
        "outputId": "4d1eaa7d-6ec0-445f-d4b5-f5adb7ac6401",
        "trusted": true
      },
      "outputs": [
        {
          "data": {
            "text/html": [
              "<div>\n",
              "<style scoped>\n",
              "    .dataframe tbody tr th:only-of-type {\n",
              "        vertical-align: middle;\n",
              "    }\n",
              "\n",
              "    .dataframe tbody tr th {\n",
              "        vertical-align: top;\n",
              "    }\n",
              "\n",
              "    .dataframe thead th {\n",
              "        text-align: right;\n",
              "    }\n",
              "</style>\n",
              "<table border=\"1\" class=\"dataframe\">\n",
              "  <thead>\n",
              "    <tr style=\"text-align: right;\">\n",
              "      <th></th>\n",
              "      <th>InvoiceNo</th>\n",
              "      <th>InvoiceDate</th>\n",
              "      <th>StockCode</th>\n",
              "      <th>Description</th>\n",
              "      <th>Cost_Price</th>\n",
              "      <th>UnitPrice</th>\n",
              "      <th>Profit</th>\n",
              "      <th>Quantity</th>\n",
              "      <th>CustomerID</th>\n",
              "      <th>Country</th>\n",
              "    </tr>\n",
              "  </thead>\n",
              "  <tbody>\n",
              "    <tr>\n",
              "      <th>0</th>\n",
              "      <td>975092</td>\n",
              "      <td>2023-02-20</td>\n",
              "      <td>401</td>\n",
              "      <td>couch</td>\n",
              "      <td>15000</td>\n",
              "      <td>25000</td>\n",
              "      <td>10000</td>\n",
              "      <td>1</td>\n",
              "      <td>1</td>\n",
              "      <td>India</td>\n",
              "    </tr>\n",
              "    <tr>\n",
              "      <th>1</th>\n",
              "      <td>975092</td>\n",
              "      <td>2023-02-20</td>\n",
              "      <td>407</td>\n",
              "      <td>bedsheet</td>\n",
              "      <td>500</td>\n",
              "      <td>1000</td>\n",
              "      <td>500</td>\n",
              "      <td>1</td>\n",
              "      <td>1</td>\n",
              "      <td>India</td>\n",
              "    </tr>\n",
              "    <tr>\n",
              "      <th>2</th>\n",
              "      <td>724424</td>\n",
              "      <td>2023-02-20</td>\n",
              "      <td>417</td>\n",
              "      <td>door knob</td>\n",
              "      <td>200</td>\n",
              "      <td>400</td>\n",
              "      <td>200</td>\n",
              "      <td>1</td>\n",
              "      <td>2</td>\n",
              "      <td>India</td>\n",
              "    </tr>\n",
              "    <tr>\n",
              "      <th>3</th>\n",
              "      <td>724424</td>\n",
              "      <td>2023-02-20</td>\n",
              "      <td>401</td>\n",
              "      <td>couch</td>\n",
              "      <td>15000</td>\n",
              "      <td>25000</td>\n",
              "      <td>10000</td>\n",
              "      <td>1</td>\n",
              "      <td>2</td>\n",
              "      <td>India</td>\n",
              "    </tr>\n",
              "    <tr>\n",
              "      <th>4</th>\n",
              "      <td>724424</td>\n",
              "      <td>2023-02-20</td>\n",
              "      <td>416</td>\n",
              "      <td>door</td>\n",
              "      <td>5000</td>\n",
              "      <td>10000</td>\n",
              "      <td>5000</td>\n",
              "      <td>1</td>\n",
              "      <td>2</td>\n",
              "      <td>India</td>\n",
              "    </tr>\n",
              "  </tbody>\n",
              "</table>\n",
              "</div>"
            ],
            "text/plain": [
              "   InvoiceNo InvoiceDate  StockCode Description  Cost_Price  UnitPrice  \\\n",
              "0     975092  2023-02-20        401       couch       15000      25000   \n",
              "1     975092  2023-02-20        407    bedsheet         500       1000   \n",
              "2     724424  2023-02-20        417   door knob         200        400   \n",
              "3     724424  2023-02-20        401       couch       15000      25000   \n",
              "4     724424  2023-02-20        416        door        5000      10000   \n",
              "\n",
              "   Profit  Quantity  CustomerID Country  \n",
              "0   10000         1           1   India  \n",
              "1     500         1           1   India  \n",
              "2     200         1           2   India  \n",
              "3   10000         1           2   India  \n",
              "4    5000         1           2   India  "
            ]
          },
          "execution_count": 3,
          "metadata": {},
          "output_type": "execute_result"
        }
      ],
      "source": [
        "df=pd.read_csv('datasets/homedecor.csv')\n",
        "df.head()"
      ]
    },
    {
      "cell_type": "markdown",
      "metadata": {
        "id": "5zXxQlg-4_Su"
      },
      "source": [
        "let's cheak data and missing value and handle it"
      ]
    },
    {
      "cell_type": "code",
      "execution_count": 4,
      "metadata": {
        "execution": {
          "iopub.execute_input": "2024-02-20T17:08:36.697999Z",
          "iopub.status.busy": "2024-02-20T17:08:36.697632Z",
          "iopub.status.idle": "2024-02-20T17:08:36.740378Z",
          "shell.execute_reply": "2024-02-20T17:08:36.738671Z",
          "shell.execute_reply.started": "2024-02-20T17:08:36.697968Z"
        },
        "id": "Y297HUEc4_Sv",
        "outputId": "4a8197fe-2a04-4e58-e31f-704bdb847069",
        "trusted": true
      },
      "outputs": [
        {
          "name": "stdout",
          "output_type": "stream",
          "text": [
            "<class 'pandas.core.frame.DataFrame'>\n",
            "RangeIndex: 2551 entries, 0 to 2550\n",
            "Data columns (total 10 columns):\n",
            " #   Column       Non-Null Count  Dtype \n",
            "---  ------       --------------  ----- \n",
            " 0   InvoiceNo    2551 non-null   int64 \n",
            " 1   InvoiceDate  2551 non-null   object\n",
            " 2   StockCode    2551 non-null   int64 \n",
            " 3   Description  2551 non-null   object\n",
            " 4   Cost_Price   2551 non-null   int64 \n",
            " 5   UnitPrice    2551 non-null   int64 \n",
            " 6   Profit       2551 non-null   int64 \n",
            " 7   Quantity     2551 non-null   int64 \n",
            " 8   CustomerID   2551 non-null   int64 \n",
            " 9   Country      2551 non-null   object\n",
            "dtypes: int64(7), object(3)\n",
            "memory usage: 199.4+ KB\n"
          ]
        }
      ],
      "source": [
        "df.info()"
      ]
    },
    {
      "cell_type": "code",
      "execution_count": 5,
      "metadata": {
        "execution": {
          "iopub.execute_input": "2024-02-20T17:08:36.744561Z",
          "iopub.status.busy": "2024-02-20T17:08:36.744155Z",
          "iopub.status.idle": "2024-02-20T17:08:36.75398Z",
          "shell.execute_reply": "2024-02-20T17:08:36.752475Z",
          "shell.execute_reply.started": "2024-02-20T17:08:36.74453Z"
        },
        "id": "Yf_L_OyR4_Sv",
        "outputId": "208a1ba5-0336-40f1-a543-ed03cd2f6c49",
        "trusted": true
      },
      "outputs": [
        {
          "data": {
            "text/plain": [
              "500"
            ]
          },
          "execution_count": 5,
          "metadata": {},
          "output_type": "execute_result"
        }
      ],
      "source": [
        "df['CustomerID'].nunique()"
      ]
    },
    {
      "cell_type": "code",
      "execution_count": 6,
      "metadata": {
        "execution": {
          "iopub.execute_input": "2024-02-20T17:08:36.755995Z",
          "iopub.status.busy": "2024-02-20T17:08:36.755605Z",
          "iopub.status.idle": "2024-02-20T17:08:36.866357Z",
          "shell.execute_reply": "2024-02-20T17:08:36.864937Z",
          "shell.execute_reply.started": "2024-02-20T17:08:36.755963Z"
        },
        "id": "TxZO9Ru04_Sw",
        "outputId": "0d8899fd-f90c-46b7-db5f-27ae7cf05b8a",
        "trusted": true
      },
      "outputs": [
        {
          "data": {
            "text/html": [
              "<div>\n",
              "<style scoped>\n",
              "    .dataframe tbody tr th:only-of-type {\n",
              "        vertical-align: middle;\n",
              "    }\n",
              "\n",
              "    .dataframe tbody tr th {\n",
              "        vertical-align: top;\n",
              "    }\n",
              "\n",
              "    .dataframe thead th {\n",
              "        text-align: right;\n",
              "    }\n",
              "</style>\n",
              "<table border=\"1\" class=\"dataframe\">\n",
              "  <thead>\n",
              "    <tr style=\"text-align: right;\">\n",
              "      <th></th>\n",
              "      <th>InvoiceNo</th>\n",
              "      <th>InvoiceDate</th>\n",
              "      <th>StockCode</th>\n",
              "      <th>Description</th>\n",
              "      <th>Cost_Price</th>\n",
              "      <th>UnitPrice</th>\n",
              "      <th>Profit</th>\n",
              "      <th>Quantity</th>\n",
              "      <th>CustomerID</th>\n",
              "      <th>Country</th>\n",
              "    </tr>\n",
              "  </thead>\n",
              "  <tbody>\n",
              "    <tr>\n",
              "      <th>0</th>\n",
              "      <td>975092</td>\n",
              "      <td>2023-02-20</td>\n",
              "      <td>401</td>\n",
              "      <td>couch</td>\n",
              "      <td>15000</td>\n",
              "      <td>25000</td>\n",
              "      <td>10000</td>\n",
              "      <td>1</td>\n",
              "      <td>1</td>\n",
              "      <td>India</td>\n",
              "    </tr>\n",
              "    <tr>\n",
              "      <th>16</th>\n",
              "      <td>957148</td>\n",
              "      <td>2023-02-20</td>\n",
              "      <td>402</td>\n",
              "      <td>lamp</td>\n",
              "      <td>500</td>\n",
              "      <td>750</td>\n",
              "      <td>250</td>\n",
              "      <td>1</td>\n",
              "      <td>5</td>\n",
              "      <td>India</td>\n",
              "    </tr>\n",
              "    <tr>\n",
              "      <th>15</th>\n",
              "      <td>957148</td>\n",
              "      <td>2023-02-20</td>\n",
              "      <td>403</td>\n",
              "      <td>tube light</td>\n",
              "      <td>450</td>\n",
              "      <td>600</td>\n",
              "      <td>150</td>\n",
              "      <td>1</td>\n",
              "      <td>5</td>\n",
              "      <td>India</td>\n",
              "    </tr>\n",
              "    <tr>\n",
              "      <th>14</th>\n",
              "      <td>957148</td>\n",
              "      <td>2023-02-20</td>\n",
              "      <td>404</td>\n",
              "      <td>queen bed</td>\n",
              "      <td>29000</td>\n",
              "      <td>45000</td>\n",
              "      <td>16000</td>\n",
              "      <td>1</td>\n",
              "      <td>5</td>\n",
              "      <td>India</td>\n",
              "    </tr>\n",
              "    <tr>\n",
              "      <th>13</th>\n",
              "      <td>957148</td>\n",
              "      <td>2023-02-20</td>\n",
              "      <td>406</td>\n",
              "      <td>pillow</td>\n",
              "      <td>200</td>\n",
              "      <td>400</td>\n",
              "      <td>200</td>\n",
              "      <td>1</td>\n",
              "      <td>5</td>\n",
              "      <td>India</td>\n",
              "    </tr>\n",
              "    <tr>\n",
              "      <th>...</th>\n",
              "      <td>...</td>\n",
              "      <td>...</td>\n",
              "      <td>...</td>\n",
              "      <td>...</td>\n",
              "      <td>...</td>\n",
              "      <td>...</td>\n",
              "      <td>...</td>\n",
              "      <td>...</td>\n",
              "      <td>...</td>\n",
              "      <td>...</td>\n",
              "    </tr>\n",
              "    <tr>\n",
              "      <th>2545</th>\n",
              "      <td>149536</td>\n",
              "      <td>2024-02-20</td>\n",
              "      <td>403</td>\n",
              "      <td>tube light</td>\n",
              "      <td>450</td>\n",
              "      <td>600</td>\n",
              "      <td>150</td>\n",
              "      <td>1</td>\n",
              "      <td>261</td>\n",
              "      <td>India</td>\n",
              "    </tr>\n",
              "    <tr>\n",
              "      <th>2546</th>\n",
              "      <td>149536</td>\n",
              "      <td>2024-02-20</td>\n",
              "      <td>409</td>\n",
              "      <td>shelf</td>\n",
              "      <td>500</td>\n",
              "      <td>1000</td>\n",
              "      <td>500</td>\n",
              "      <td>1</td>\n",
              "      <td>261</td>\n",
              "      <td>India</td>\n",
              "    </tr>\n",
              "    <tr>\n",
              "      <th>2547</th>\n",
              "      <td>837372</td>\n",
              "      <td>2024-02-20</td>\n",
              "      <td>415</td>\n",
              "      <td>yard chair</td>\n",
              "      <td>1500</td>\n",
              "      <td>3000</td>\n",
              "      <td>1500</td>\n",
              "      <td>1</td>\n",
              "      <td>421</td>\n",
              "      <td>India</td>\n",
              "    </tr>\n",
              "    <tr>\n",
              "      <th>2548</th>\n",
              "      <td>837372</td>\n",
              "      <td>2024-02-20</td>\n",
              "      <td>403</td>\n",
              "      <td>tube light</td>\n",
              "      <td>450</td>\n",
              "      <td>600</td>\n",
              "      <td>150</td>\n",
              "      <td>1</td>\n",
              "      <td>421</td>\n",
              "      <td>India</td>\n",
              "    </tr>\n",
              "    <tr>\n",
              "      <th>2550</th>\n",
              "      <td>591706</td>\n",
              "      <td>2024-02-20</td>\n",
              "      <td>413</td>\n",
              "      <td>dining table</td>\n",
              "      <td>20000</td>\n",
              "      <td>40000</td>\n",
              "      <td>20000</td>\n",
              "      <td>1</td>\n",
              "      <td>279</td>\n",
              "      <td>India</td>\n",
              "    </tr>\n",
              "  </tbody>\n",
              "</table>\n",
              "<p>2551 rows × 10 columns</p>\n",
              "</div>"
            ],
            "text/plain": [
              "      InvoiceNo InvoiceDate  StockCode   Description  Cost_Price  UnitPrice  \\\n",
              "0        975092  2023-02-20        401         couch       15000      25000   \n",
              "16       957148  2023-02-20        402          lamp         500        750   \n",
              "15       957148  2023-02-20        403    tube light         450        600   \n",
              "14       957148  2023-02-20        404     queen bed       29000      45000   \n",
              "13       957148  2023-02-20        406        pillow         200        400   \n",
              "...         ...         ...        ...           ...         ...        ...   \n",
              "2545     149536  2024-02-20        403    tube light         450        600   \n",
              "2546     149536  2024-02-20        409         shelf         500       1000   \n",
              "2547     837372  2024-02-20        415    yard chair        1500       3000   \n",
              "2548     837372  2024-02-20        403    tube light         450        600   \n",
              "2550     591706  2024-02-20        413  dining table       20000      40000   \n",
              "\n",
              "      Profit  Quantity  CustomerID Country  \n",
              "0      10000         1           1   India  \n",
              "16       250         1           5   India  \n",
              "15       150         1           5   India  \n",
              "14     16000         1           5   India  \n",
              "13       200         1           5   India  \n",
              "...      ...       ...         ...     ...  \n",
              "2545     150         1         261   India  \n",
              "2546     500         1         261   India  \n",
              "2547    1500         1         421   India  \n",
              "2548     150         1         421   India  \n",
              "2550   20000         1         279   India  \n",
              "\n",
              "[2551 rows x 10 columns]"
            ]
          },
          "execution_count": 6,
          "metadata": {},
          "output_type": "execute_result"
        }
      ],
      "source": [
        "df.sort_values(by='InvoiceDate')"
      ]
    },
    {
      "cell_type": "markdown",
      "metadata": {
        "id": "bhjdVin64_Sx"
      },
      "source": [
        " we have missing value in 'CustomerID'and 'Description'\n",
        " drop it is a good option to handle it\n",
        " also I will handle duplicates rows\n"
      ]
    },
    {
      "cell_type": "code",
      "execution_count": 7,
      "metadata": {
        "execution": {
          "iopub.execute_input": "2024-02-20T17:08:36.87114Z",
          "iopub.status.busy": "2024-02-20T17:08:36.870711Z",
          "iopub.status.idle": "2024-02-20T17:08:36.953226Z",
          "shell.execute_reply": "2024-02-20T17:08:36.951874Z",
          "shell.execute_reply.started": "2024-02-20T17:08:36.871108Z"
        },
        "id": "uXsgbQJU4_Sy",
        "trusted": true
      },
      "outputs": [],
      "source": [
        "df=df.dropna(axis=0)\n",
        "df=df.drop_duplicates()"
      ]
    },
    {
      "cell_type": "markdown",
      "metadata": {
        "id": "wBAs2TQP4_Sy"
      },
      "source": [
        "'InvoiceDate'is an object columns ,let's convert it to datetime and get days"
      ]
    },
    {
      "cell_type": "code",
      "execution_count": 8,
      "metadata": {
        "execution": {
          "iopub.execute_input": "2024-02-20T17:08:36.955404Z",
          "iopub.status.busy": "2024-02-20T17:08:36.954981Z",
          "iopub.status.idle": "2024-02-20T17:08:36.985361Z",
          "shell.execute_reply": "2024-02-20T17:08:36.984126Z",
          "shell.execute_reply.started": "2024-02-20T17:08:36.955363Z"
        },
        "id": "8vbSAZgd4_Sy",
        "trusted": true
      },
      "outputs": [],
      "source": [
        "df['InvoiceDate']=pd.to_datetime(df['InvoiceDate'])\n",
        "#to convert the columns to days ,we need to get the last day cheaked in data\n",
        "last_date=df['InvoiceDate'].max()\n",
        "df['InvoiceDate']=last_date-df['InvoiceDate']\n",
        "df['InvoiceDate']=df['InvoiceDate'].dt.days"
      ]
    },
    {
      "cell_type": "markdown",
      "metadata": {
        "id": "MUNkTWCG4_Sz"
      },
      "source": [
        "**RFM analysis**"
      ]
    },
    {
      "cell_type": "code",
      "execution_count": 9,
      "metadata": {
        "execution": {
          "iopub.execute_input": "2024-02-20T17:08:36.988111Z",
          "iopub.status.busy": "2024-02-20T17:08:36.98704Z",
          "iopub.status.idle": "2024-02-20T17:08:36.996284Z",
          "shell.execute_reply": "2024-02-20T17:08:36.994737Z",
          "shell.execute_reply.started": "2024-02-20T17:08:36.988066Z"
        },
        "id": "IqVsFGCN4_Sz",
        "trusted": true
      },
      "outputs": [],
      "source": [
        "\n",
        "df['the amount']=df['Quantity']*df['UnitPrice']"
      ]
    },
    {
      "cell_type": "markdown",
      "metadata": {
        "id": "mIxtigZz4_S0"
      },
      "source": [
        "recency,frequency,monetary"
      ]
    },
    {
      "cell_type": "code",
      "execution_count": 10,
      "metadata": {
        "execution": {
          "iopub.execute_input": "2024-02-20T17:08:36.998244Z",
          "iopub.status.busy": "2024-02-20T17:08:36.997857Z",
          "iopub.status.idle": "2024-02-20T17:08:37.020822Z",
          "shell.execute_reply": "2024-02-20T17:08:37.01901Z",
          "shell.execute_reply.started": "2024-02-20T17:08:36.998214Z"
        },
        "id": "RyQ94Ef24_S0",
        "trusted": true
      },
      "outputs": [],
      "source": [
        "r_df=df.groupby('CustomerID')['InvoiceDate'].min()\n",
        "f_df=df.groupby(df['CustomerID'])['InvoiceNo'].count()\n",
        "m_df=df.groupby(df['CustomerID'])['the amount'].sum()"
      ]
    },
    {
      "cell_type": "code",
      "execution_count": 11,
      "metadata": {
        "execution": {
          "iopub.execute_input": "2024-02-20T17:08:37.026441Z",
          "iopub.status.busy": "2024-02-20T17:08:37.026Z",
          "iopub.status.idle": "2024-02-20T17:08:37.050186Z",
          "shell.execute_reply": "2024-02-20T17:08:37.048559Z",
          "shell.execute_reply.started": "2024-02-20T17:08:37.026408Z"
        },
        "id": "npuby0RN4_S0",
        "outputId": "e652e516-5a08-4034-ffcc-7a6e2ef73b2b",
        "trusted": true
      },
      "outputs": [
        {
          "data": {
            "text/html": [
              "<div>\n",
              "<style scoped>\n",
              "    .dataframe tbody tr th:only-of-type {\n",
              "        vertical-align: middle;\n",
              "    }\n",
              "\n",
              "    .dataframe tbody tr th {\n",
              "        vertical-align: top;\n",
              "    }\n",
              "\n",
              "    .dataframe thead th {\n",
              "        text-align: right;\n",
              "    }\n",
              "</style>\n",
              "<table border=\"1\" class=\"dataframe\">\n",
              "  <thead>\n",
              "    <tr style=\"text-align: right;\">\n",
              "      <th></th>\n",
              "      <th>InvoiceDate</th>\n",
              "      <th>InvoiceNo</th>\n",
              "      <th>the amount</th>\n",
              "    </tr>\n",
              "    <tr>\n",
              "      <th>CustomerID</th>\n",
              "      <th></th>\n",
              "      <th></th>\n",
              "      <th></th>\n",
              "    </tr>\n",
              "  </thead>\n",
              "  <tbody>\n",
              "    <tr>\n",
              "      <th>1</th>\n",
              "      <td>95</td>\n",
              "      <td>8</td>\n",
              "      <td>46800</td>\n",
              "    </tr>\n",
              "    <tr>\n",
              "      <th>2</th>\n",
              "      <td>365</td>\n",
              "      <td>5</td>\n",
              "      <td>53400</td>\n",
              "    </tr>\n",
              "    <tr>\n",
              "      <th>3</th>\n",
              "      <td>5</td>\n",
              "      <td>6</td>\n",
              "      <td>33150</td>\n",
              "    </tr>\n",
              "    <tr>\n",
              "      <th>4</th>\n",
              "      <td>50</td>\n",
              "      <td>10</td>\n",
              "      <td>110850</td>\n",
              "    </tr>\n",
              "    <tr>\n",
              "      <th>5</th>\n",
              "      <td>86</td>\n",
              "      <td>10</td>\n",
              "      <td>105650</td>\n",
              "    </tr>\n",
              "  </tbody>\n",
              "</table>\n",
              "</div>"
            ],
            "text/plain": [
              "            InvoiceDate  InvoiceNo  the amount\n",
              "CustomerID                                    \n",
              "1                    95          8       46800\n",
              "2                   365          5       53400\n",
              "3                     5          6       33150\n",
              "4                    50         10      110850\n",
              "5                    86         10      105650"
            ]
          },
          "execution_count": 11,
          "metadata": {},
          "output_type": "execute_result"
        }
      ],
      "source": [
        "rf_data=pd.merge(r_df,f_df,on='CustomerID', how='inner')\n",
        "rfm_data=pd.merge(rf_data,m_df,on='CustomerID', how='inner')\n",
        "rfm_data.head()"
      ]
    },
    {
      "cell_type": "code",
      "execution_count": 12,
      "metadata": {
        "execution": {
          "iopub.execute_input": "2024-02-20T17:08:37.05256Z",
          "iopub.status.busy": "2024-02-20T17:08:37.05218Z",
          "iopub.status.idle": "2024-02-20T17:08:37.073171Z",
          "shell.execute_reply": "2024-02-20T17:08:37.072219Z",
          "shell.execute_reply.started": "2024-02-20T17:08:37.052526Z"
        },
        "id": "2fbBBpSy4_S1",
        "outputId": "c8f0357d-42c5-4b5c-b4c2-fec4a4054838",
        "trusted": true
      },
      "outputs": [
        {
          "data": {
            "text/plain": [
              "Country\n",
              "India    2551\n",
              "Name: CustomerID, dtype: int64"
            ]
          },
          "execution_count": 12,
          "metadata": {},
          "output_type": "execute_result"
        }
      ],
      "source": [
        "country_data=df.groupby(df['Country'])['CustomerID'].count()\n",
        "country_data"
      ]
    },
    {
      "cell_type": "markdown",
      "metadata": {
        "id": "X4guq2m34_S1"
      },
      "source": [
        "United kingdom is most freq country ,so let's use it to make analysis"
      ]
    },
    {
      "cell_type": "code",
      "execution_count": 13,
      "metadata": {
        "execution": {
          "iopub.execute_input": "2024-02-20T17:08:37.074637Z",
          "iopub.status.busy": "2024-02-20T17:08:37.07429Z",
          "iopub.status.idle": "2024-02-20T17:08:37.125704Z",
          "shell.execute_reply": "2024-02-20T17:08:37.124401Z",
          "shell.execute_reply.started": "2024-02-20T17:08:37.074607Z"
        },
        "id": "rRJaaB1d4_S1",
        "outputId": "cc776ed5-3184-46c9-bae1-987bde3323bd",
        "trusted": true
      },
      "outputs": [
        {
          "data": {
            "text/html": [
              "<div>\n",
              "<style scoped>\n",
              "    .dataframe tbody tr th:only-of-type {\n",
              "        vertical-align: middle;\n",
              "    }\n",
              "\n",
              "    .dataframe tbody tr th {\n",
              "        vertical-align: top;\n",
              "    }\n",
              "\n",
              "    .dataframe thead th {\n",
              "        text-align: right;\n",
              "    }\n",
              "</style>\n",
              "<table border=\"1\" class=\"dataframe\">\n",
              "  <thead>\n",
              "    <tr style=\"text-align: right;\">\n",
              "      <th></th>\n",
              "      <th>recency</th>\n",
              "      <th>frequency</th>\n",
              "      <th>monetary</th>\n",
              "      <th>Country</th>\n",
              "    </tr>\n",
              "    <tr>\n",
              "      <th>CustomerID</th>\n",
              "      <th></th>\n",
              "      <th></th>\n",
              "      <th></th>\n",
              "      <th></th>\n",
              "    </tr>\n",
              "  </thead>\n",
              "  <tbody>\n",
              "    <tr>\n",
              "      <th>1</th>\n",
              "      <td>95</td>\n",
              "      <td>8</td>\n",
              "      <td>46800</td>\n",
              "      <td>India</td>\n",
              "    </tr>\n",
              "    <tr>\n",
              "      <th>2</th>\n",
              "      <td>365</td>\n",
              "      <td>5</td>\n",
              "      <td>53400</td>\n",
              "      <td>India</td>\n",
              "    </tr>\n",
              "    <tr>\n",
              "      <th>3</th>\n",
              "      <td>5</td>\n",
              "      <td>6</td>\n",
              "      <td>33150</td>\n",
              "      <td>India</td>\n",
              "    </tr>\n",
              "    <tr>\n",
              "      <th>4</th>\n",
              "      <td>50</td>\n",
              "      <td>10</td>\n",
              "      <td>110850</td>\n",
              "      <td>India</td>\n",
              "    </tr>\n",
              "    <tr>\n",
              "      <th>5</th>\n",
              "      <td>86</td>\n",
              "      <td>10</td>\n",
              "      <td>105650</td>\n",
              "      <td>India</td>\n",
              "    </tr>\n",
              "  </tbody>\n",
              "</table>\n",
              "</div>"
            ],
            "text/plain": [
              "            recency  frequency  monetary Country\n",
              "CustomerID                                      \n",
              "1                95          8     46800   India\n",
              "2               365          5     53400   India\n",
              "3                 5          6     33150   India\n",
              "4                50         10    110850   India\n",
              "5                86         10    105650   India"
            ]
          },
          "execution_count": 13,
          "metadata": {},
          "output_type": "execute_result"
        }
      ],
      "source": [
        "id_coun=df[['Country','CustomerID']]\n",
        "rfmc_data=pd.merge(rfm_data,id_coun,on='CustomerID', how='left')\n",
        "rfmc_data=rfmc_data.drop_duplicates()\n",
        "rfmc_data=rfmc_data.set_index('CustomerID')\n",
        "rfmc_data=rfmc_data.rename(columns={'InvoiceDate':'recency',\n",
        "                                    'InvoiceNo':'frequency',\n",
        "                                    'the amount':'monetary'})\n",
        "\n",
        "rfmc_data.groupby(rfmc_data['Country']).count()\n",
        "UK_rfmc_data=rfmc_data[rfmc_data['Country']=='India']\n",
        "# UK_rfmc_data = UK_rfmc_data[UK_rfmc_data['recency'] != 0]\n",
        "\n",
        "UK_rfmc_data.head()"
      ]
    },
    {
      "cell_type": "markdown",
      "metadata": {
        "id": "SywtH4Hu4_S2"
      },
      "source": [
        "**it possible to make analysis to each country ,but in this notebook UK is a good choice to make analysis**"
      ]
    },
    {
      "cell_type": "markdown",
      "metadata": {
        "id": "ha9dcBD44_S2"
      },
      "source": [
        "now I will handle outliers data\n"
      ]
    },
    {
      "cell_type": "code",
      "execution_count": null,
      "metadata": {
        "execution": {
          "iopub.execute_input": "2024-02-20T17:08:37.128796Z",
          "iopub.status.busy": "2024-02-20T17:08:37.127442Z",
          "iopub.status.idle": "2024-02-20T17:08:37.322329Z",
          "shell.execute_reply": "2024-02-20T17:08:37.320464Z",
          "shell.execute_reply.started": "2024-02-20T17:08:37.128715Z"
        },
        "id": "oMr-PgL74_S2",
        "outputId": "79ba4434-a8b9-4f69-863e-a82056f88635",
        "trusted": true
      },
      "outputs": [
        {
          "ename": "KeyError",
          "evalue": "0",
          "output_type": "error",
          "traceback": [
            "\u001b[0;31m---------------------------------------------------------------------------\u001b[0m",
            "\u001b[0;31mKeyError\u001b[0m                                  Traceback (most recent call last)",
            "File \u001b[0;32m/opt/conda/lib/python3.10/site-packages/pandas/core/indexes/base.py:3802\u001b[0m, in \u001b[0;36mIndex.get_loc\u001b[0;34m(self, key)\u001b[0m\n\u001b[1;32m   3801\u001b[0m \u001b[38;5;28;01mtry\u001b[39;00m:\n\u001b[0;32m-> 3802\u001b[0m     \u001b[38;5;28;01mreturn\u001b[39;00m \u001b[38;5;28;43mself\u001b[39;49m\u001b[38;5;241;43m.\u001b[39;49m\u001b[43m_engine\u001b[49m\u001b[38;5;241;43m.\u001b[39;49m\u001b[43mget_loc\u001b[49m\u001b[43m(\u001b[49m\u001b[43mcasted_key\u001b[49m\u001b[43m)\u001b[49m\n\u001b[1;32m   3803\u001b[0m \u001b[38;5;28;01mexcept\u001b[39;00m \u001b[38;5;167;01mKeyError\u001b[39;00m \u001b[38;5;28;01mas\u001b[39;00m err:\n",
            "File \u001b[0;32mindex.pyx:153\u001b[0m, in \u001b[0;36mpandas._libs.index.IndexEngine.get_loc\u001b[0;34m()\u001b[0m\n",
            "File \u001b[0;32mindex.pyx:182\u001b[0m, in \u001b[0;36mpandas._libs.index.IndexEngine.get_loc\u001b[0;34m()\u001b[0m\n",
            "File \u001b[0;32mpandas/_libs/hashtable_class_helper.pxi:2606\u001b[0m, in \u001b[0;36mpandas._libs.hashtable.Int64HashTable.get_item\u001b[0;34m()\u001b[0m\n",
            "File \u001b[0;32mpandas/_libs/hashtable_class_helper.pxi:2630\u001b[0m, in \u001b[0;36mpandas._libs.hashtable.Int64HashTable.get_item\u001b[0;34m()\u001b[0m\n",
            "\u001b[0;31mKeyError\u001b[0m: 0",
            "\nThe above exception was the direct cause of the following exception:\n",
            "\u001b[0;31mKeyError\u001b[0m                                  Traceback (most recent call last)",
            "Cell \u001b[0;32mIn[68], line 1\u001b[0m\n\u001b[0;32m----> 1\u001b[0m \u001b[43msns\u001b[49m\u001b[38;5;241;43m.\u001b[39;49m\u001b[43mboxplot\u001b[49m\u001b[43m(\u001b[49m\u001b[43mUK_rfmc_data\u001b[49m\u001b[43m[\u001b[49m\u001b[38;5;124;43m'\u001b[39;49m\u001b[38;5;124;43mrecency\u001b[39;49m\u001b[38;5;124;43m'\u001b[39;49m\u001b[43m]\u001b[49m\u001b[43m)\u001b[49m\n",
            "File \u001b[0;32m/opt/conda/lib/python3.10/site-packages/seaborn/categorical.py:2231\u001b[0m, in \u001b[0;36mboxplot\u001b[0;34m(data, x, y, hue, order, hue_order, orient, color, palette, saturation, width, dodge, fliersize, linewidth, whis, ax, **kwargs)\u001b[0m\n\u001b[1;32m   2224\u001b[0m \u001b[38;5;28;01mdef\u001b[39;00m \u001b[38;5;21mboxplot\u001b[39m(\n\u001b[1;32m   2225\u001b[0m     data\u001b[38;5;241m=\u001b[39m\u001b[38;5;28;01mNone\u001b[39;00m, \u001b[38;5;241m*\u001b[39m, x\u001b[38;5;241m=\u001b[39m\u001b[38;5;28;01mNone\u001b[39;00m, y\u001b[38;5;241m=\u001b[39m\u001b[38;5;28;01mNone\u001b[39;00m, hue\u001b[38;5;241m=\u001b[39m\u001b[38;5;28;01mNone\u001b[39;00m, order\u001b[38;5;241m=\u001b[39m\u001b[38;5;28;01mNone\u001b[39;00m, hue_order\u001b[38;5;241m=\u001b[39m\u001b[38;5;28;01mNone\u001b[39;00m,\n\u001b[1;32m   2226\u001b[0m     orient\u001b[38;5;241m=\u001b[39m\u001b[38;5;28;01mNone\u001b[39;00m, color\u001b[38;5;241m=\u001b[39m\u001b[38;5;28;01mNone\u001b[39;00m, palette\u001b[38;5;241m=\u001b[39m\u001b[38;5;28;01mNone\u001b[39;00m, saturation\u001b[38;5;241m=\u001b[39m\u001b[38;5;241m.75\u001b[39m, width\u001b[38;5;241m=\u001b[39m\u001b[38;5;241m.8\u001b[39m,\n\u001b[1;32m   2227\u001b[0m     dodge\u001b[38;5;241m=\u001b[39m\u001b[38;5;28;01mTrue\u001b[39;00m, fliersize\u001b[38;5;241m=\u001b[39m\u001b[38;5;241m5\u001b[39m, linewidth\u001b[38;5;241m=\u001b[39m\u001b[38;5;28;01mNone\u001b[39;00m, whis\u001b[38;5;241m=\u001b[39m\u001b[38;5;241m1.5\u001b[39m, ax\u001b[38;5;241m=\u001b[39m\u001b[38;5;28;01mNone\u001b[39;00m,\n\u001b[1;32m   2228\u001b[0m     \u001b[38;5;241m*\u001b[39m\u001b[38;5;241m*\u001b[39mkwargs\n\u001b[1;32m   2229\u001b[0m ):\n\u001b[0;32m-> 2231\u001b[0m     plotter \u001b[38;5;241m=\u001b[39m \u001b[43m_BoxPlotter\u001b[49m\u001b[43m(\u001b[49m\u001b[43mx\u001b[49m\u001b[43m,\u001b[49m\u001b[43m \u001b[49m\u001b[43my\u001b[49m\u001b[43m,\u001b[49m\u001b[43m \u001b[49m\u001b[43mhue\u001b[49m\u001b[43m,\u001b[49m\u001b[43m \u001b[49m\u001b[43mdata\u001b[49m\u001b[43m,\u001b[49m\u001b[43m \u001b[49m\u001b[43morder\u001b[49m\u001b[43m,\u001b[49m\u001b[43m \u001b[49m\u001b[43mhue_order\u001b[49m\u001b[43m,\u001b[49m\n\u001b[1;32m   2232\u001b[0m \u001b[43m                          \u001b[49m\u001b[43morient\u001b[49m\u001b[43m,\u001b[49m\u001b[43m \u001b[49m\u001b[43mcolor\u001b[49m\u001b[43m,\u001b[49m\u001b[43m \u001b[49m\u001b[43mpalette\u001b[49m\u001b[43m,\u001b[49m\u001b[43m \u001b[49m\u001b[43msaturation\u001b[49m\u001b[43m,\u001b[49m\n\u001b[1;32m   2233\u001b[0m \u001b[43m                          \u001b[49m\u001b[43mwidth\u001b[49m\u001b[43m,\u001b[49m\u001b[43m \u001b[49m\u001b[43mdodge\u001b[49m\u001b[43m,\u001b[49m\u001b[43m \u001b[49m\u001b[43mfliersize\u001b[49m\u001b[43m,\u001b[49m\u001b[43m \u001b[49m\u001b[43mlinewidth\u001b[49m\u001b[43m)\u001b[49m\n\u001b[1;32m   2235\u001b[0m     \u001b[38;5;28;01mif\u001b[39;00m ax \u001b[38;5;129;01mis\u001b[39;00m \u001b[38;5;28;01mNone\u001b[39;00m:\n\u001b[1;32m   2236\u001b[0m         ax \u001b[38;5;241m=\u001b[39m plt\u001b[38;5;241m.\u001b[39mgca()\n",
            "File \u001b[0;32m/opt/conda/lib/python3.10/site-packages/seaborn/categorical.py:785\u001b[0m, in \u001b[0;36m_BoxPlotter.__init__\u001b[0;34m(self, x, y, hue, data, order, hue_order, orient, color, palette, saturation, width, dodge, fliersize, linewidth)\u001b[0m\n\u001b[1;32m    781\u001b[0m \u001b[38;5;28;01mdef\u001b[39;00m \u001b[38;5;21m__init__\u001b[39m(\u001b[38;5;28mself\u001b[39m, x, y, hue, data, order, hue_order,\n\u001b[1;32m    782\u001b[0m              orient, color, palette, saturation,\n\u001b[1;32m    783\u001b[0m              width, dodge, fliersize, linewidth):\n\u001b[0;32m--> 785\u001b[0m     \u001b[38;5;28;43mself\u001b[39;49m\u001b[38;5;241;43m.\u001b[39;49m\u001b[43mestablish_variables\u001b[49m\u001b[43m(\u001b[49m\u001b[43mx\u001b[49m\u001b[43m,\u001b[49m\u001b[43m \u001b[49m\u001b[43my\u001b[49m\u001b[43m,\u001b[49m\u001b[43m \u001b[49m\u001b[43mhue\u001b[49m\u001b[43m,\u001b[49m\u001b[43m \u001b[49m\u001b[43mdata\u001b[49m\u001b[43m,\u001b[49m\u001b[43m \u001b[49m\u001b[43morient\u001b[49m\u001b[43m,\u001b[49m\u001b[43m \u001b[49m\u001b[43morder\u001b[49m\u001b[43m,\u001b[49m\u001b[43m \u001b[49m\u001b[43mhue_order\u001b[49m\u001b[43m)\u001b[49m\n\u001b[1;32m    786\u001b[0m     \u001b[38;5;28mself\u001b[39m\u001b[38;5;241m.\u001b[39mestablish_colors(color, palette, saturation)\n\u001b[1;32m    788\u001b[0m     \u001b[38;5;28mself\u001b[39m\u001b[38;5;241m.\u001b[39mdodge \u001b[38;5;241m=\u001b[39m dodge\n",
            "File \u001b[0;32m/opt/conda/lib/python3.10/site-packages/seaborn/categorical.py:486\u001b[0m, in \u001b[0;36m_CategoricalPlotter.establish_variables\u001b[0;34m(self, x, y, hue, data, orient, order, hue_order, units)\u001b[0m\n\u001b[1;32m    484\u001b[0m \u001b[38;5;28;01mif\u001b[39;00m \u001b[38;5;28mhasattr\u001b[39m(data, \u001b[38;5;124m\"\u001b[39m\u001b[38;5;124mshape\u001b[39m\u001b[38;5;124m\"\u001b[39m):\n\u001b[1;32m    485\u001b[0m     \u001b[38;5;28;01mif\u001b[39;00m \u001b[38;5;28mlen\u001b[39m(data\u001b[38;5;241m.\u001b[39mshape) \u001b[38;5;241m==\u001b[39m \u001b[38;5;241m1\u001b[39m:\n\u001b[0;32m--> 486\u001b[0m         \u001b[38;5;28;01mif\u001b[39;00m np\u001b[38;5;241m.\u001b[39misscalar(\u001b[43mdata\u001b[49m\u001b[43m[\u001b[49m\u001b[38;5;241;43m0\u001b[39;49m\u001b[43m]\u001b[49m):\n\u001b[1;32m    487\u001b[0m             plot_data \u001b[38;5;241m=\u001b[39m [data]\n\u001b[1;32m    488\u001b[0m         \u001b[38;5;28;01melse\u001b[39;00m:\n",
            "File \u001b[0;32m/opt/conda/lib/python3.10/site-packages/pandas/core/series.py:1111\u001b[0m, in \u001b[0;36mSeries.__getitem__\u001b[0;34m(self, key)\u001b[0m\n\u001b[1;32m   1108\u001b[0m     \u001b[38;5;28;01mreturn\u001b[39;00m \u001b[38;5;28mself\u001b[39m\u001b[38;5;241m.\u001b[39m_values[key]\n\u001b[1;32m   1110\u001b[0m \u001b[38;5;28;01melif\u001b[39;00m key_is_scalar:\n\u001b[0;32m-> 1111\u001b[0m     \u001b[38;5;28;01mreturn\u001b[39;00m \u001b[38;5;28;43mself\u001b[39;49m\u001b[38;5;241;43m.\u001b[39;49m\u001b[43m_get_value\u001b[49m\u001b[43m(\u001b[49m\u001b[43mkey\u001b[49m\u001b[43m)\u001b[49m\n\u001b[1;32m   1113\u001b[0m \u001b[38;5;66;03m# Convert generator to list before going through hashable part\u001b[39;00m\n\u001b[1;32m   1114\u001b[0m \u001b[38;5;66;03m# (We will iterate through the generator there to check for slices)\u001b[39;00m\n\u001b[1;32m   1115\u001b[0m \u001b[38;5;28;01mif\u001b[39;00m is_iterator(key):\n",
            "File \u001b[0;32m/opt/conda/lib/python3.10/site-packages/pandas/core/series.py:1227\u001b[0m, in \u001b[0;36mSeries._get_value\u001b[0;34m(self, label, takeable)\u001b[0m\n\u001b[1;32m   1224\u001b[0m     \u001b[38;5;28;01mreturn\u001b[39;00m \u001b[38;5;28mself\u001b[39m\u001b[38;5;241m.\u001b[39m_values[label]\n\u001b[1;32m   1226\u001b[0m \u001b[38;5;66;03m# Similar to Index.get_value, but we do not fall back to positional\u001b[39;00m\n\u001b[0;32m-> 1227\u001b[0m loc \u001b[38;5;241m=\u001b[39m \u001b[38;5;28;43mself\u001b[39;49m\u001b[38;5;241;43m.\u001b[39;49m\u001b[43mindex\u001b[49m\u001b[38;5;241;43m.\u001b[39;49m\u001b[43mget_loc\u001b[49m\u001b[43m(\u001b[49m\u001b[43mlabel\u001b[49m\u001b[43m)\u001b[49m\n\u001b[1;32m   1229\u001b[0m \u001b[38;5;28;01mif\u001b[39;00m is_integer(loc):\n\u001b[1;32m   1230\u001b[0m     \u001b[38;5;28;01mreturn\u001b[39;00m \u001b[38;5;28mself\u001b[39m\u001b[38;5;241m.\u001b[39m_values[loc]\n",
            "File \u001b[0;32m/opt/conda/lib/python3.10/site-packages/pandas/core/indexes/base.py:3809\u001b[0m, in \u001b[0;36mIndex.get_loc\u001b[0;34m(self, key)\u001b[0m\n\u001b[1;32m   3804\u001b[0m     \u001b[38;5;28;01mif\u001b[39;00m \u001b[38;5;28misinstance\u001b[39m(casted_key, \u001b[38;5;28mslice\u001b[39m) \u001b[38;5;129;01mor\u001b[39;00m (\n\u001b[1;32m   3805\u001b[0m         \u001b[38;5;28misinstance\u001b[39m(casted_key, abc\u001b[38;5;241m.\u001b[39mIterable)\n\u001b[1;32m   3806\u001b[0m         \u001b[38;5;129;01mand\u001b[39;00m \u001b[38;5;28many\u001b[39m(\u001b[38;5;28misinstance\u001b[39m(x, \u001b[38;5;28mslice\u001b[39m) \u001b[38;5;28;01mfor\u001b[39;00m x \u001b[38;5;129;01min\u001b[39;00m casted_key)\n\u001b[1;32m   3807\u001b[0m     ):\n\u001b[1;32m   3808\u001b[0m         \u001b[38;5;28;01mraise\u001b[39;00m InvalidIndexError(key)\n\u001b[0;32m-> 3809\u001b[0m     \u001b[38;5;28;01mraise\u001b[39;00m \u001b[38;5;167;01mKeyError\u001b[39;00m(key) \u001b[38;5;28;01mfrom\u001b[39;00m \u001b[38;5;21;01merr\u001b[39;00m\n\u001b[1;32m   3810\u001b[0m \u001b[38;5;28;01mexcept\u001b[39;00m \u001b[38;5;167;01mTypeError\u001b[39;00m:\n\u001b[1;32m   3811\u001b[0m     \u001b[38;5;66;03m# If we have a listlike key, _check_indexing_error will raise\u001b[39;00m\n\u001b[1;32m   3812\u001b[0m     \u001b[38;5;66;03m#  InvalidIndexError. Otherwise we fall through and re-raise\u001b[39;00m\n\u001b[1;32m   3813\u001b[0m     \u001b[38;5;66;03m#  the TypeError.\u001b[39;00m\n\u001b[1;32m   3814\u001b[0m     \u001b[38;5;28mself\u001b[39m\u001b[38;5;241m.\u001b[39m_check_indexing_error(key)\n",
            "\u001b[0;31mKeyError\u001b[0m: 0"
          ]
        }
      ],
      "source": [
        "sns.boxplot(UK_rfmc_data['recency'])"
      ]
    },
    {
      "cell_type": "code",
      "execution_count": null,
      "metadata": {
        "execution": {
          "iopub.status.busy": "2024-02-20T17:08:37.323312Z",
          "iopub.status.idle": "2024-02-20T17:08:37.323726Z",
          "shell.execute_reply": "2024-02-20T17:08:37.32354Z",
          "shell.execute_reply.started": "2024-02-20T17:08:37.323523Z"
        },
        "id": "Pe-7Qvps4_S5",
        "trusted": true
      },
      "outputs": [],
      "source": [
        "sns.boxplot(UK_rfmc_data['frequency'])\n"
      ]
    },
    {
      "cell_type": "code",
      "execution_count": null,
      "metadata": {
        "execution": {
          "iopub.status.busy": "2024-02-20T17:08:37.326183Z",
          "iopub.status.idle": "2024-02-20T17:08:37.326924Z",
          "shell.execute_reply": "2024-02-20T17:08:37.326575Z",
          "shell.execute_reply.started": "2024-02-20T17:08:37.326547Z"
        },
        "id": "7sHSAIyI4_S5",
        "trusted": true
      },
      "outputs": [],
      "source": [
        "sns.boxplot(UK_rfmc_data['monetary'])"
      ]
    },
    {
      "cell_type": "markdown",
      "metadata": {
        "id": "ngt0Jn9N4_S5"
      },
      "source": [
        "in each columns, thier are outliers data"
      ]
    },
    {
      "cell_type": "code",
      "execution_count": 14,
      "metadata": {
        "execution": {
          "iopub.status.busy": "2024-02-20T17:08:37.32936Z",
          "iopub.status.idle": "2024-02-20T17:08:37.329846Z",
          "shell.execute_reply": "2024-02-20T17:08:37.329655Z",
          "shell.execute_reply.started": "2024-02-20T17:08:37.329635Z"
        },
        "id": "4DmFhEjq4_S5",
        "trusted": true
      },
      "outputs": [
        {
          "data": {
            "text/html": [
              "<div>\n",
              "<style scoped>\n",
              "    .dataframe tbody tr th:only-of-type {\n",
              "        vertical-align: middle;\n",
              "    }\n",
              "\n",
              "    .dataframe tbody tr th {\n",
              "        vertical-align: top;\n",
              "    }\n",
              "\n",
              "    .dataframe thead th {\n",
              "        text-align: right;\n",
              "    }\n",
              "</style>\n",
              "<table border=\"1\" class=\"dataframe\">\n",
              "  <thead>\n",
              "    <tr style=\"text-align: right;\">\n",
              "      <th></th>\n",
              "      <th>recency</th>\n",
              "      <th>frequency</th>\n",
              "      <th>monetary</th>\n",
              "    </tr>\n",
              "  </thead>\n",
              "  <tbody>\n",
              "    <tr>\n",
              "      <th>count</th>\n",
              "      <td>500.000000</td>\n",
              "      <td>500.000000</td>\n",
              "      <td>500.00000</td>\n",
              "    </tr>\n",
              "    <tr>\n",
              "      <th>mean</th>\n",
              "      <td>154.508000</td>\n",
              "      <td>5.102000</td>\n",
              "      <td>59392.50000</td>\n",
              "    </tr>\n",
              "    <tr>\n",
              "      <th>std</th>\n",
              "      <td>112.327061</td>\n",
              "      <td>3.155235</td>\n",
              "      <td>55043.44266</td>\n",
              "    </tr>\n",
              "    <tr>\n",
              "      <th>min</th>\n",
              "      <td>0.000000</td>\n",
              "      <td>1.000000</td>\n",
              "      <td>100.00000</td>\n",
              "    </tr>\n",
              "    <tr>\n",
              "      <th>25%</th>\n",
              "      <td>51.000000</td>\n",
              "      <td>3.000000</td>\n",
              "      <td>13150.00000</td>\n",
              "    </tr>\n",
              "    <tr>\n",
              "      <th>50%</th>\n",
              "      <td>143.000000</td>\n",
              "      <td>4.000000</td>\n",
              "      <td>47000.00000</td>\n",
              "    </tr>\n",
              "    <tr>\n",
              "      <th>75%</th>\n",
              "      <td>247.250000</td>\n",
              "      <td>7.000000</td>\n",
              "      <td>90000.00000</td>\n",
              "    </tr>\n",
              "    <tr>\n",
              "      <th>max</th>\n",
              "      <td>365.000000</td>\n",
              "      <td>17.000000</td>\n",
              "      <td>299950.00000</td>\n",
              "    </tr>\n",
              "  </tbody>\n",
              "</table>\n",
              "</div>"
            ],
            "text/plain": [
              "          recency   frequency      monetary\n",
              "count  500.000000  500.000000     500.00000\n",
              "mean   154.508000    5.102000   59392.50000\n",
              "std    112.327061    3.155235   55043.44266\n",
              "min      0.000000    1.000000     100.00000\n",
              "25%     51.000000    3.000000   13150.00000\n",
              "50%    143.000000    4.000000   47000.00000\n",
              "75%    247.250000    7.000000   90000.00000\n",
              "max    365.000000   17.000000  299950.00000"
            ]
          },
          "execution_count": 14,
          "metadata": {},
          "output_type": "execute_result"
        }
      ],
      "source": [
        "UK_rfmc_data.describe()"
      ]
    },
    {
      "cell_type": "markdown",
      "metadata": {
        "id": "mxQtJ8s24_S6"
      },
      "source": [
        "in 'recency' column their are 0 value ,in 'monetary' column thier are negative value,so handle it by log tranformation is not possible"
      ]
    },
    {
      "cell_type": "markdown",
      "metadata": {
        "id": "LoDIw1rr4_S6"
      },
      "source": [
        "now I will delete it"
      ]
    },
    {
      "cell_type": "code",
      "execution_count": 15,
      "metadata": {
        "execution": {
          "iopub.status.busy": "2024-02-20T17:08:37.331671Z",
          "iopub.status.idle": "2024-02-20T17:08:37.332141Z",
          "shell.execute_reply": "2024-02-20T17:08:37.331955Z",
          "shell.execute_reply.started": "2024-02-20T17:08:37.331935Z"
        },
        "id": "QyJqAnAJ4_S6",
        "trusted": true
      },
      "outputs": [
        {
          "name": "stdout",
          "output_type": "stream",
          "text": [
            "turn num  1\n",
            "(500, 4)\n",
            "turn num  2\n",
            "(485, 4)\n",
            "turn num  3\n",
            "(474, 4)\n"
          ]
        },
        {
          "data": {
            "text/html": [
              "<div>\n",
              "<style scoped>\n",
              "    .dataframe tbody tr th:only-of-type {\n",
              "        vertical-align: middle;\n",
              "    }\n",
              "\n",
              "    .dataframe tbody tr th {\n",
              "        vertical-align: top;\n",
              "    }\n",
              "\n",
              "    .dataframe thead th {\n",
              "        text-align: right;\n",
              "    }\n",
              "</style>\n",
              "<table border=\"1\" class=\"dataframe\">\n",
              "  <thead>\n",
              "    <tr style=\"text-align: right;\">\n",
              "      <th></th>\n",
              "      <th>recency</th>\n",
              "      <th>frequency</th>\n",
              "      <th>monetary</th>\n",
              "      <th>Country</th>\n",
              "    </tr>\n",
              "    <tr>\n",
              "      <th>CustomerID</th>\n",
              "      <th></th>\n",
              "      <th></th>\n",
              "      <th></th>\n",
              "      <th></th>\n",
              "    </tr>\n",
              "  </thead>\n",
              "  <tbody>\n",
              "    <tr>\n",
              "      <th>1</th>\n",
              "      <td>95</td>\n",
              "      <td>8</td>\n",
              "      <td>46800</td>\n",
              "      <td>India</td>\n",
              "    </tr>\n",
              "    <tr>\n",
              "      <th>2</th>\n",
              "      <td>365</td>\n",
              "      <td>5</td>\n",
              "      <td>53400</td>\n",
              "      <td>India</td>\n",
              "    </tr>\n",
              "    <tr>\n",
              "      <th>3</th>\n",
              "      <td>5</td>\n",
              "      <td>6</td>\n",
              "      <td>33150</td>\n",
              "      <td>India</td>\n",
              "    </tr>\n",
              "    <tr>\n",
              "      <th>4</th>\n",
              "      <td>50</td>\n",
              "      <td>10</td>\n",
              "      <td>110850</td>\n",
              "      <td>India</td>\n",
              "    </tr>\n",
              "    <tr>\n",
              "      <th>5</th>\n",
              "      <td>86</td>\n",
              "      <td>10</td>\n",
              "      <td>105650</td>\n",
              "      <td>India</td>\n",
              "    </tr>\n",
              "  </tbody>\n",
              "</table>\n",
              "</div>"
            ],
            "text/plain": [
              "            recency  frequency  monetary Country\n",
              "CustomerID                                      \n",
              "1                95          8     46800   India\n",
              "2               365          5     53400   India\n",
              "3                 5          6     33150   India\n",
              "4                50         10    110850   India\n",
              "5                86         10    105650   India"
            ]
          },
          "execution_count": 15,
          "metadata": {},
          "output_type": "execute_result"
        }
      ],
      "source": [
        "def remove_outlier(df, col_name):\n",
        "    q1 = df[col_name].quantile(0.25)\n",
        "    q3 = df[col_name].quantile(0.75)\n",
        "    iqr = q3-q1\n",
        "    fence_low  = q1-1.5*iqr\n",
        "    fence_high = q3+1.5*iqr\n",
        "    df = df[(df[col_name] > fence_low) & (df[col_name] < fence_high)]\n",
        "    return df\n",
        "L=0\n",
        "while L<=3:\n",
        "    select_col=UK_rfmc_data.columns[L]\n",
        "    remove_data=remove_outlier(UK_rfmc_data,select_col)\n",
        "    UK_rfmc_data=remove_data\n",
        "    print('turn num ',L+1)\n",
        "    print(UK_rfmc_data.shape)\n",
        "    L+=1\n",
        "    if L==3:\n",
        "        break\n",
        "\n",
        "UK_rfmc_data.head()"
      ]
    },
    {
      "cell_type": "code",
      "execution_count": 16,
      "metadata": {
        "execution": {
          "iopub.status.busy": "2024-02-20T17:08:37.333516Z",
          "iopub.status.idle": "2024-02-20T17:08:37.334025Z",
          "shell.execute_reply": "2024-02-20T17:08:37.333792Z",
          "shell.execute_reply.started": "2024-02-20T17:08:37.333772Z"
        },
        "id": "EQhd7Tiq4_S6",
        "trusted": true
      },
      "outputs": [
        {
          "name": "stderr",
          "output_type": "stream",
          "text": [
            "C:\\Users\\Monkey.D.Luffy\\AppData\\Local\\Temp\\ipykernel_13912\\1769169022.py:2: FutureWarning: The default value of numeric_only in DataFrame.quantile is deprecated. In a future version, it will default to False. Select only valid columns or specify the value of numeric_only to silence this warning.\n",
            "  quantiles = UK_rfmc_data.quantile(q=[0.25,0.5,0.75])\n"
          ]
        },
        {
          "data": {
            "text/html": [
              "<div>\n",
              "<style scoped>\n",
              "    .dataframe tbody tr th:only-of-type {\n",
              "        vertical-align: middle;\n",
              "    }\n",
              "\n",
              "    .dataframe tbody tr th {\n",
              "        vertical-align: top;\n",
              "    }\n",
              "\n",
              "    .dataframe thead th {\n",
              "        text-align: right;\n",
              "    }\n",
              "</style>\n",
              "<table border=\"1\" class=\"dataframe\">\n",
              "  <thead>\n",
              "    <tr style=\"text-align: right;\">\n",
              "      <th></th>\n",
              "      <th>recency</th>\n",
              "      <th>frequency</th>\n",
              "      <th>monetary</th>\n",
              "      <th>Country</th>\n",
              "      <th>R</th>\n",
              "      <th>F</th>\n",
              "      <th>M</th>\n",
              "      <th>RFM SCORE</th>\n",
              "    </tr>\n",
              "    <tr>\n",
              "      <th>CustomerID</th>\n",
              "      <th></th>\n",
              "      <th></th>\n",
              "      <th></th>\n",
              "      <th></th>\n",
              "      <th></th>\n",
              "      <th></th>\n",
              "      <th></th>\n",
              "      <th></th>\n",
              "    </tr>\n",
              "  </thead>\n",
              "  <tbody>\n",
              "    <tr>\n",
              "      <th>1</th>\n",
              "      <td>95</td>\n",
              "      <td>8</td>\n",
              "      <td>46800</td>\n",
              "      <td>India</td>\n",
              "      <td>2</td>\n",
              "      <td>1</td>\n",
              "      <td>2</td>\n",
              "      <td>5</td>\n",
              "    </tr>\n",
              "    <tr>\n",
              "      <th>2</th>\n",
              "      <td>365</td>\n",
              "      <td>5</td>\n",
              "      <td>53400</td>\n",
              "      <td>India</td>\n",
              "      <td>4</td>\n",
              "      <td>2</td>\n",
              "      <td>2</td>\n",
              "      <td>8</td>\n",
              "    </tr>\n",
              "    <tr>\n",
              "      <th>3</th>\n",
              "      <td>5</td>\n",
              "      <td>6</td>\n",
              "      <td>33150</td>\n",
              "      <td>India</td>\n",
              "      <td>1</td>\n",
              "      <td>2</td>\n",
              "      <td>3</td>\n",
              "      <td>6</td>\n",
              "    </tr>\n",
              "    <tr>\n",
              "      <th>4</th>\n",
              "      <td>50</td>\n",
              "      <td>10</td>\n",
              "      <td>110850</td>\n",
              "      <td>India</td>\n",
              "      <td>1</td>\n",
              "      <td>1</td>\n",
              "      <td>1</td>\n",
              "      <td>3</td>\n",
              "    </tr>\n",
              "    <tr>\n",
              "      <th>5</th>\n",
              "      <td>86</td>\n",
              "      <td>10</td>\n",
              "      <td>105650</td>\n",
              "      <td>India</td>\n",
              "      <td>2</td>\n",
              "      <td>1</td>\n",
              "      <td>1</td>\n",
              "      <td>4</td>\n",
              "    </tr>\n",
              "    <tr>\n",
              "      <th>...</th>\n",
              "      <td>...</td>\n",
              "      <td>...</td>\n",
              "      <td>...</td>\n",
              "      <td>...</td>\n",
              "      <td>...</td>\n",
              "      <td>...</td>\n",
              "      <td>...</td>\n",
              "      <td>...</td>\n",
              "    </tr>\n",
              "    <tr>\n",
              "      <th>496</th>\n",
              "      <td>50</td>\n",
              "      <td>9</td>\n",
              "      <td>31400</td>\n",
              "      <td>India</td>\n",
              "      <td>1</td>\n",
              "      <td>1</td>\n",
              "      <td>3</td>\n",
              "      <td>5</td>\n",
              "    </tr>\n",
              "    <tr>\n",
              "      <th>497</th>\n",
              "      <td>33</td>\n",
              "      <td>7</td>\n",
              "      <td>74350</td>\n",
              "      <td>India</td>\n",
              "      <td>1</td>\n",
              "      <td>2</td>\n",
              "      <td>2</td>\n",
              "      <td>5</td>\n",
              "    </tr>\n",
              "    <tr>\n",
              "      <th>498</th>\n",
              "      <td>160</td>\n",
              "      <td>3</td>\n",
              "      <td>49100</td>\n",
              "      <td>India</td>\n",
              "      <td>3</td>\n",
              "      <td>3</td>\n",
              "      <td>2</td>\n",
              "      <td>8</td>\n",
              "    </tr>\n",
              "    <tr>\n",
              "      <th>499</th>\n",
              "      <td>22</td>\n",
              "      <td>8</td>\n",
              "      <td>119800</td>\n",
              "      <td>India</td>\n",
              "      <td>1</td>\n",
              "      <td>1</td>\n",
              "      <td>1</td>\n",
              "      <td>3</td>\n",
              "    </tr>\n",
              "    <tr>\n",
              "      <th>500</th>\n",
              "      <td>82</td>\n",
              "      <td>7</td>\n",
              "      <td>143950</td>\n",
              "      <td>India</td>\n",
              "      <td>2</td>\n",
              "      <td>2</td>\n",
              "      <td>1</td>\n",
              "      <td>5</td>\n",
              "    </tr>\n",
              "  </tbody>\n",
              "</table>\n",
              "<p>474 rows × 8 columns</p>\n",
              "</div>"
            ],
            "text/plain": [
              "            recency  frequency  monetary Country  R  F  M  RFM SCORE\n",
              "CustomerID                                                          \n",
              "1                95          8     46800   India  2  1  2          5\n",
              "2               365          5     53400   India  4  2  2          8\n",
              "3                 5          6     33150   India  1  2  3          6\n",
              "4                50         10    110850   India  1  1  1          3\n",
              "5                86         10    105650   India  2  1  1          4\n",
              "...             ...        ...       ...     ... .. .. ..        ...\n",
              "496              50          9     31400   India  1  1  3          5\n",
              "497              33          7     74350   India  1  2  2          5\n",
              "498             160          3     49100   India  3  3  2          8\n",
              "499              22          8    119800   India  1  1  1          3\n",
              "500              82          7    143950   India  2  2  1          5\n",
              "\n",
              "[474 rows x 8 columns]"
            ]
          },
          "execution_count": 16,
          "metadata": {},
          "output_type": "execute_result"
        }
      ],
      "source": [
        "#rfm score\n",
        "quantiles = UK_rfmc_data.quantile(q=[0.25,0.5,0.75])\n",
        "quantiles = quantiles.to_dict()\n",
        "\n",
        "def RScoring(x,p,d):\n",
        "    if x <= d[p][0.25]:\n",
        "        return 1\n",
        "    elif x <= d[p][0.50]:\n",
        "        return 2\n",
        "    elif x <= d[p][0.75]:\n",
        "        return 3\n",
        "    else:\n",
        "        return 4\n",
        "\n",
        "def FnMScoring(x,p,d):\n",
        "    if x <= d[p][0.25]:\n",
        "        return 4\n",
        "    elif x <= d[p][0.50]:\n",
        "        return 3\n",
        "    elif x <= d[p][0.75]:\n",
        "        return 2\n",
        "    else:\n",
        "        return 1\n",
        "\n",
        "UK_rfmc_data['R'] =UK_rfmc_data['recency'].apply(RScoring,\n",
        "                                            args=('recency',quantiles,))\n",
        "UK_rfmc_data['F'] = UK_rfmc_data['frequency'].apply(FnMScoring,\n",
        "                                              args=('frequency',quantiles,))\n",
        "UK_rfmc_data['M'] =UK_rfmc_data['monetary'].apply(FnMScoring,\n",
        "                                             args=('monetary',quantiles,))\n",
        "\n",
        "\n",
        "UK_rfmc_data['RFM SCORE']=UK_rfmc_data[['R','F','M']].sum(axis=1)\n",
        "UK_rfmc_data"
      ]
    },
    {
      "cell_type": "markdown",
      "metadata": {
        "id": "kM2ZkYbc4_S7"
      },
      "source": [
        "now ,I will make Loyalty Level columns ,then i will split data to 4 dataframe to make handle it more easy"
      ]
    },
    {
      "cell_type": "code",
      "execution_count": 17,
      "metadata": {
        "execution": {
          "iopub.status.busy": "2024-02-20T17:08:37.335221Z",
          "iopub.status.idle": "2024-02-20T17:08:37.335636Z",
          "shell.execute_reply": "2024-02-20T17:08:37.335455Z",
          "shell.execute_reply.started": "2024-02-20T17:08:37.335437Z"
        },
        "id": "9VZF3Lrm4_S7",
        "trusted": true
      },
      "outputs": [
        {
          "name": "stderr",
          "output_type": "stream",
          "text": [
            "C:\\Users\\Monkey.D.Luffy\\AppData\\Local\\Temp\\ipykernel_13912\\2499275944.py:2: SettingWithCopyWarning: \n",
            "A value is trying to be set on a copy of a slice from a DataFrame.\n",
            "Try using .loc[row_indexer,col_indexer] = value instead\n",
            "\n",
            "See the caveats in the documentation: https://pandas.pydata.org/pandas-docs/stable/user_guide/indexing.html#returning-a-view-versus-a-copy\n",
            "  S_customer['RFM_Loyalty_Leve']='S'\n",
            "C:\\Users\\Monkey.D.Luffy\\AppData\\Local\\Temp\\ipykernel_13912\\2499275944.py:8: SettingWithCopyWarning: \n",
            "A value is trying to be set on a copy of a slice from a DataFrame.\n",
            "Try using .loc[row_indexer,col_indexer] = value instead\n",
            "\n",
            "See the caveats in the documentation: https://pandas.pydata.org/pandas-docs/stable/user_guide/indexing.html#returning-a-view-versus-a-copy\n",
            "  UK_rfmc_data['RFM_Loyalty_Level'] = Score_cuts.values\n"
          ]
        }
      ],
      "source": [
        "S_customer=UK_rfmc_data[UK_rfmc_data['RFM SCORE']==3]\n",
        "S_customer['RFM_Loyalty_Leve']='S'\n",
        "\n",
        "UK_rfmc_data=UK_rfmc_data[UK_rfmc_data['RFM SCORE']!=3]\n",
        "\n",
        "Loyalty_Level = ['A','B','C']\n",
        "Score_cuts = pd.qcut(UK_rfmc_data['RFM SCORE'], q = 3, labels = Loyalty_Level)\n",
        "UK_rfmc_data['RFM_Loyalty_Level'] = Score_cuts.values\n",
        "\n",
        "A_customer=UK_rfmc_data[UK_rfmc_data['RFM_Loyalty_Level']=='A']\n",
        "B_customer=UK_rfmc_data[UK_rfmc_data['RFM_Loyalty_Level']=='B']\n",
        "C_customer=UK_rfmc_data[UK_rfmc_data['RFM_Loyalty_Level']=='C']\n"
      ]
    },
    {
      "cell_type": "code",
      "execution_count": 18,
      "metadata": {
        "execution": {
          "iopub.status.busy": "2024-02-20T17:08:37.33735Z",
          "iopub.status.idle": "2024-02-20T17:08:37.337776Z",
          "shell.execute_reply": "2024-02-20T17:08:37.337594Z",
          "shell.execute_reply.started": "2024-02-20T17:08:37.337576Z"
        },
        "id": "XLd6einf4_S7",
        "trusted": true
      },
      "outputs": [
        {
          "data": {
            "text/html": [
              "<div>\n",
              "<style scoped>\n",
              "    .dataframe tbody tr th:only-of-type {\n",
              "        vertical-align: middle;\n",
              "    }\n",
              "\n",
              "    .dataframe tbody tr th {\n",
              "        vertical-align: top;\n",
              "    }\n",
              "\n",
              "    .dataframe thead th {\n",
              "        text-align: right;\n",
              "    }\n",
              "</style>\n",
              "<table border=\"1\" class=\"dataframe\">\n",
              "  <thead>\n",
              "    <tr style=\"text-align: right;\">\n",
              "      <th></th>\n",
              "      <th>InvoiceNo</th>\n",
              "      <th>InvoiceDate</th>\n",
              "      <th>StockCode</th>\n",
              "      <th>Description</th>\n",
              "      <th>Cost_Price</th>\n",
              "      <th>UnitPrice</th>\n",
              "      <th>Profit</th>\n",
              "      <th>Quantity</th>\n",
              "      <th>CustomerID</th>\n",
              "      <th>Country</th>\n",
              "      <th>the amount</th>\n",
              "      <th>R</th>\n",
              "      <th>F</th>\n",
              "      <th>M</th>\n",
              "    </tr>\n",
              "  </thead>\n",
              "  <tbody>\n",
              "    <tr>\n",
              "      <th>0</th>\n",
              "      <td>975092</td>\n",
              "      <td>365</td>\n",
              "      <td>401</td>\n",
              "      <td>couch</td>\n",
              "      <td>15000</td>\n",
              "      <td>25000</td>\n",
              "      <td>10000</td>\n",
              "      <td>1</td>\n",
              "      <td>1</td>\n",
              "      <td>India</td>\n",
              "      <td>25000</td>\n",
              "      <td>2.0</td>\n",
              "      <td>1.0</td>\n",
              "      <td>2.0</td>\n",
              "    </tr>\n",
              "    <tr>\n",
              "      <th>1</th>\n",
              "      <td>975092</td>\n",
              "      <td>365</td>\n",
              "      <td>407</td>\n",
              "      <td>bedsheet</td>\n",
              "      <td>500</td>\n",
              "      <td>1000</td>\n",
              "      <td>500</td>\n",
              "      <td>1</td>\n",
              "      <td>1</td>\n",
              "      <td>India</td>\n",
              "      <td>1000</td>\n",
              "      <td>2.0</td>\n",
              "      <td>1.0</td>\n",
              "      <td>2.0</td>\n",
              "    </tr>\n",
              "    <tr>\n",
              "      <th>2</th>\n",
              "      <td>724424</td>\n",
              "      <td>365</td>\n",
              "      <td>417</td>\n",
              "      <td>door knob</td>\n",
              "      <td>200</td>\n",
              "      <td>400</td>\n",
              "      <td>200</td>\n",
              "      <td>1</td>\n",
              "      <td>2</td>\n",
              "      <td>India</td>\n",
              "      <td>400</td>\n",
              "      <td>4.0</td>\n",
              "      <td>2.0</td>\n",
              "      <td>2.0</td>\n",
              "    </tr>\n",
              "    <tr>\n",
              "      <th>3</th>\n",
              "      <td>724424</td>\n",
              "      <td>365</td>\n",
              "      <td>401</td>\n",
              "      <td>couch</td>\n",
              "      <td>15000</td>\n",
              "      <td>25000</td>\n",
              "      <td>10000</td>\n",
              "      <td>1</td>\n",
              "      <td>2</td>\n",
              "      <td>India</td>\n",
              "      <td>25000</td>\n",
              "      <td>4.0</td>\n",
              "      <td>2.0</td>\n",
              "      <td>2.0</td>\n",
              "    </tr>\n",
              "    <tr>\n",
              "      <th>4</th>\n",
              "      <td>724424</td>\n",
              "      <td>365</td>\n",
              "      <td>416</td>\n",
              "      <td>door</td>\n",
              "      <td>5000</td>\n",
              "      <td>10000</td>\n",
              "      <td>5000</td>\n",
              "      <td>1</td>\n",
              "      <td>2</td>\n",
              "      <td>India</td>\n",
              "      <td>10000</td>\n",
              "      <td>4.0</td>\n",
              "      <td>2.0</td>\n",
              "      <td>2.0</td>\n",
              "    </tr>\n",
              "    <tr>\n",
              "      <th>...</th>\n",
              "      <td>...</td>\n",
              "      <td>...</td>\n",
              "      <td>...</td>\n",
              "      <td>...</td>\n",
              "      <td>...</td>\n",
              "      <td>...</td>\n",
              "      <td>...</td>\n",
              "      <td>...</td>\n",
              "      <td>...</td>\n",
              "      <td>...</td>\n",
              "      <td>...</td>\n",
              "      <td>...</td>\n",
              "      <td>...</td>\n",
              "      <td>...</td>\n",
              "    </tr>\n",
              "    <tr>\n",
              "      <th>2546</th>\n",
              "      <td>149536</td>\n",
              "      <td>0</td>\n",
              "      <td>409</td>\n",
              "      <td>shelf</td>\n",
              "      <td>500</td>\n",
              "      <td>1000</td>\n",
              "      <td>500</td>\n",
              "      <td>1</td>\n",
              "      <td>261</td>\n",
              "      <td>India</td>\n",
              "      <td>1000</td>\n",
              "      <td>1.0</td>\n",
              "      <td>2.0</td>\n",
              "      <td>1.0</td>\n",
              "    </tr>\n",
              "    <tr>\n",
              "      <th>2547</th>\n",
              "      <td>837372</td>\n",
              "      <td>0</td>\n",
              "      <td>415</td>\n",
              "      <td>yard chair</td>\n",
              "      <td>1500</td>\n",
              "      <td>3000</td>\n",
              "      <td>1500</td>\n",
              "      <td>1</td>\n",
              "      <td>421</td>\n",
              "      <td>India</td>\n",
              "      <td>3000</td>\n",
              "      <td>NaN</td>\n",
              "      <td>NaN</td>\n",
              "      <td>NaN</td>\n",
              "    </tr>\n",
              "    <tr>\n",
              "      <th>2548</th>\n",
              "      <td>837372</td>\n",
              "      <td>0</td>\n",
              "      <td>403</td>\n",
              "      <td>tube light</td>\n",
              "      <td>450</td>\n",
              "      <td>600</td>\n",
              "      <td>150</td>\n",
              "      <td>1</td>\n",
              "      <td>421</td>\n",
              "      <td>India</td>\n",
              "      <td>600</td>\n",
              "      <td>NaN</td>\n",
              "      <td>NaN</td>\n",
              "      <td>NaN</td>\n",
              "    </tr>\n",
              "    <tr>\n",
              "      <th>2549</th>\n",
              "      <td>591706</td>\n",
              "      <td>0</td>\n",
              "      <td>415</td>\n",
              "      <td>yard chair</td>\n",
              "      <td>1500</td>\n",
              "      <td>3000</td>\n",
              "      <td>1500</td>\n",
              "      <td>1</td>\n",
              "      <td>279</td>\n",
              "      <td>India</td>\n",
              "      <td>3000</td>\n",
              "      <td>1.0</td>\n",
              "      <td>2.0</td>\n",
              "      <td>1.0</td>\n",
              "    </tr>\n",
              "    <tr>\n",
              "      <th>2550</th>\n",
              "      <td>591706</td>\n",
              "      <td>0</td>\n",
              "      <td>413</td>\n",
              "      <td>dining table</td>\n",
              "      <td>20000</td>\n",
              "      <td>40000</td>\n",
              "      <td>20000</td>\n",
              "      <td>1</td>\n",
              "      <td>279</td>\n",
              "      <td>India</td>\n",
              "      <td>40000</td>\n",
              "      <td>1.0</td>\n",
              "      <td>2.0</td>\n",
              "      <td>1.0</td>\n",
              "    </tr>\n",
              "  </tbody>\n",
              "</table>\n",
              "<p>2551 rows × 14 columns</p>\n",
              "</div>"
            ],
            "text/plain": [
              "      InvoiceNo  InvoiceDate  StockCode   Description  Cost_Price  UnitPrice  \\\n",
              "0        975092          365        401         couch       15000      25000   \n",
              "1        975092          365        407      bedsheet         500       1000   \n",
              "2        724424          365        417     door knob         200        400   \n",
              "3        724424          365        401         couch       15000      25000   \n",
              "4        724424          365        416          door        5000      10000   \n",
              "...         ...          ...        ...           ...         ...        ...   \n",
              "2546     149536            0        409         shelf         500       1000   \n",
              "2547     837372            0        415    yard chair        1500       3000   \n",
              "2548     837372            0        403    tube light         450        600   \n",
              "2549     591706            0        415    yard chair        1500       3000   \n",
              "2550     591706            0        413  dining table       20000      40000   \n",
              "\n",
              "      Profit  Quantity  CustomerID Country  the amount    R    F    M  \n",
              "0      10000         1           1   India       25000  2.0  1.0  2.0  \n",
              "1        500         1           1   India        1000  2.0  1.0  2.0  \n",
              "2        200         1           2   India         400  4.0  2.0  2.0  \n",
              "3      10000         1           2   India       25000  4.0  2.0  2.0  \n",
              "4       5000         1           2   India       10000  4.0  2.0  2.0  \n",
              "...      ...       ...         ...     ...         ...  ...  ...  ...  \n",
              "2546     500         1         261   India        1000  1.0  2.0  1.0  \n",
              "2547    1500         1         421   India        3000  NaN  NaN  NaN  \n",
              "2548     150         1         421   India         600  NaN  NaN  NaN  \n",
              "2549    1500         1         279   India        3000  1.0  2.0  1.0  \n",
              "2550   20000         1         279   India       40000  1.0  2.0  1.0  \n",
              "\n",
              "[2551 rows x 14 columns]"
            ]
          },
          "execution_count": 18,
          "metadata": {},
          "output_type": "execute_result"
        }
      ],
      "source": [
        "merged_df = pd.merge(df, UK_rfmc_data[['R', 'F', 'M']], left_on='CustomerID', right_index=True, how='left')\n",
        "merged_df"
      ]
    },
    {
      "cell_type": "code",
      "execution_count": 19,
      "metadata": {
        "execution": {
          "iopub.status.busy": "2024-02-20T17:08:37.339396Z",
          "iopub.status.idle": "2024-02-20T17:08:37.339815Z",
          "shell.execute_reply": "2024-02-20T17:08:37.339623Z",
          "shell.execute_reply.started": "2024-02-20T17:08:37.339606Z"
        },
        "id": "G9jvHfm44_S8",
        "trusted": true
      },
      "outputs": [
        {
          "name": "stdout",
          "output_type": "stream",
          "text": [
            "Shelf 1: yard chair, pillow, side table, paint, curtain, tube light, lamp, carpet, chair, tiles, door, door knob, bedsheet, shelf, area rug, couch, cupboard, dining table, queen bed\n"
          ]
        }
      ],
      "source": [
        "# Define shelf capacities\n",
        "shelf_capacities = [100, 200, 300, 400, 500]\n",
        "\n",
        "# Sort products by RFM scores\n",
        "merged_df = merged_df.sort_values(by=['R', 'F', 'M'], ascending=False)\n",
        "\n",
        "# Initialize a dictionary to store shelf allocations\n",
        "shelf_allocations = {}\n",
        "\n",
        "# Initialize a set to keep track of allocated products\n",
        "allocated_products = set()\n",
        "\n",
        "# Iterate through products and allocate to shelves\n",
        "for index, row in merged_df.iterrows():\n",
        "    for shelf_id, capacity in enumerate(shelf_capacities):\n",
        "        if row['Description'] not in allocated_products and row['Quantity'] <= capacity:\n",
        "            shelf_allocations.setdefault(shelf_id, []).append(row['Description'])\n",
        "            shelf_capacities[shelf_id] -= row['Quantity']\n",
        "            allocated_products.add(row['Description'])\n",
        "            break\n",
        "\n",
        "# Print shelf allocations\n",
        "for shelf_id, products in shelf_allocations.items():\n",
        "    print(f\"Shelf {shelf_id+1}: {', '.join(products)}\")\n"
      ]
    },
    {
      "cell_type": "code",
      "execution_count": 20,
      "metadata": {
        "execution": {
          "iopub.status.busy": "2024-02-20T17:08:37.340953Z",
          "iopub.status.idle": "2024-02-20T17:08:37.341365Z",
          "shell.execute_reply": "2024-02-20T17:08:37.34118Z",
          "shell.execute_reply.started": "2024-02-20T17:08:37.341163Z"
        },
        "id": "ZHKgoBW-4_S8",
        "trusted": true
      },
      "outputs": [
        {
          "name": "stdout",
          "output_type": "stream",
          "text": [
            "Product with the lowest RF score:\n",
            "InvoiceNo      720736\n",
            "InvoiceDate         3\n",
            "StockCode         406\n",
            "Description    pillow\n",
            "Cost_Price        200\n",
            "UnitPrice         400\n",
            "Profit            200\n",
            "Quantity            1\n",
            "CustomerID        187\n",
            "Country         India\n",
            "the amount        400\n",
            "R                 1.0\n",
            "F                 1.0\n",
            "M                 2.0\n",
            "RF_Sum            2.0\n",
            "Name: 2512, dtype: object\n",
            "pillow\n"
          ]
        }
      ],
      "source": [
        "# lowest RF scores = STOCK CLEARANCE\n",
        "merged_df['RF_Sum'] = merged_df['R'] + merged_df['F']\n",
        "\n",
        "merged_df_sorted = merged_df.sort_values(by='RF_Sum', ascending=True)\n",
        "lowest_rf_product = merged_df_sorted.iloc[0]\n",
        "\n",
        "print(\"Product with the lowest RF score:\")\n",
        "print(lowest_rf_product)\n",
        "print(lowest_rf_product.Description)"
      ]
    },
    {
      "cell_type": "code",
      "execution_count": 21,
      "metadata": {
        "execution": {
          "iopub.status.busy": "2024-02-20T17:08:37.343321Z",
          "iopub.status.idle": "2024-02-20T17:08:37.343722Z",
          "shell.execute_reply": "2024-02-20T17:08:37.343547Z",
          "shell.execute_reply.started": "2024-02-20T17:08:37.343529Z"
        },
        "id": "h6LrLdfa4_S8",
        "trusted": true
      },
      "outputs": [
        {
          "name": "stdout",
          "output_type": "stream",
          "text": [
            "Product with the highest MF score:\n",
            "InvoiceNo          574066\n",
            "InvoiceDate           358\n",
            "StockCode             415\n",
            "Description    yard chair\n",
            "Cost_Price           1500\n",
            "UnitPrice            3000\n",
            "Profit               1500\n",
            "Quantity                1\n",
            "CustomerID             23\n",
            "Country             India\n",
            "the amount           3000\n",
            "R                     4.0\n",
            "F                     4.0\n",
            "M                     4.0\n",
            "RF_Sum                8.0\n",
            "MF_Sum                8.0\n",
            "Name: 77, dtype: object\n",
            "yard chair\n"
          ]
        }
      ],
      "source": [
        "# highest MF scores = PRODUCT OF THE MONTH\n",
        "merged_df['MF_Sum'] = merged_df['M'] + merged_df['F']\n",
        "\n",
        "merged_df_sorted2 = merged_df.sort_values(by='MF_Sum', ascending=False)\n",
        "highest_mf_product = merged_df_sorted2.iloc[0]\n",
        "\n",
        "print(\"Product with the highest MF score:\")\n",
        "print(highest_mf_product)\n",
        "print(highest_mf_product.Description)"
      ]
    },
    {
      "cell_type": "code",
      "execution_count": 22,
      "metadata": {
        "execution": {
          "iopub.status.busy": "2024-02-20T17:08:37.347078Z",
          "iopub.status.idle": "2024-02-20T17:08:37.347776Z",
          "shell.execute_reply": "2024-02-20T17:08:37.347459Z",
          "shell.execute_reply.started": "2024-02-20T17:08:37.347431Z"
        },
        "id": "BdU8bmKt4_S8",
        "trusted": true
      },
      "outputs": [
        {
          "name": "stdout",
          "output_type": "stream",
          "text": [
            "Product with the highest RM score:\n",
            "InvoiceNo          574066\n",
            "InvoiceDate           358\n",
            "StockCode             415\n",
            "Description    yard chair\n",
            "Cost_Price           1500\n",
            "UnitPrice            3000\n",
            "Profit               1500\n",
            "Quantity                1\n",
            "CustomerID             23\n",
            "Country             India\n",
            "the amount           3000\n",
            "R                     4.0\n",
            "F                     4.0\n",
            "M                     4.0\n",
            "RF_Sum                8.0\n",
            "MF_Sum                8.0\n",
            "RM_Sum                8.0\n",
            "Name: 77, dtype: object\n",
            "yard chair\n"
          ]
        }
      ],
      "source": [
        "# highest MF scores = SEASONAL\n",
        "merged_df['RM_Sum'] = merged_df['R'] + merged_df['M']\n",
        "\n",
        "merged_df_sorted3 = merged_df.sort_values(by='RM_Sum', ascending=False)\n",
        "highest_rm_product = merged_df_sorted3.iloc[0]\n",
        "\n",
        "print(\"Product with the highest RM score:\")\n",
        "print(highest_rm_product)\n",
        "print(highest_rm_product.Description)"
      ]
    },
    {
      "cell_type": "code",
      "execution_count": 23,
      "metadata": {
        "execution": {
          "iopub.status.busy": "2024-02-20T17:08:37.350071Z",
          "iopub.status.idle": "2024-02-20T17:08:37.350724Z",
          "shell.execute_reply": "2024-02-20T17:08:37.350425Z",
          "shell.execute_reply.started": "2024-02-20T17:08:37.350398Z"
        },
        "id": "ubPLG0vm4_S9",
        "trusted": true
      },
      "outputs": [
        {
          "data": {
            "text/plain": [
              "6.687050359712229"
            ]
          },
          "execution_count": 23,
          "metadata": {},
          "output_type": "execute_result"
        }
      ],
      "source": [
        "merged_df['R'].mean() + merged_df['M'].mean() + merged_df['F'].mean()"
      ]
    }
  ],
  "metadata": {
    "colab": {
      "name": "homedecor14",
      "provenance": []
    },
    "kaggle": {
      "accelerator": "none",
      "dataSources": [
        {
          "datasetId": 1564994,
          "sourceId": 2577121,
          "sourceType": "datasetVersion"
        },
        {
          "datasetId": 4469652,
          "sourceId": 7664543,
          "sourceType": "datasetVersion"
        },
        {
          "datasetId": 4470112,
          "sourceId": 7665163,
          "sourceType": "datasetVersion"
        },
        {
          "datasetId": 4470213,
          "sourceId": 7665274,
          "sourceType": "datasetVersion"
        },
        {
          "datasetId": 4470256,
          "sourceId": 7665328,
          "sourceType": "datasetVersion"
        },
        {
          "datasetId": 4470266,
          "sourceId": 7665341,
          "sourceType": "datasetVersion"
        }
      ],
      "dockerImageVersionId": 30646,
      "isGpuEnabled": false,
      "isInternetEnabled": true,
      "language": "python",
      "sourceType": "notebook"
    },
    "kernelspec": {
      "display_name": "Python 3",
      "language": "python",
      "name": "python3"
    },
    "language_info": {
      "codemirror_mode": {
        "name": "ipython",
        "version": 3
      },
      "file_extension": ".py",
      "mimetype": "text/x-python",
      "name": "python",
      "nbconvert_exporter": "python",
      "pygments_lexer": "ipython3",
      "version": "3.11.2"
    }
  },
  "nbformat": 4,
  "nbformat_minor": 0
}
